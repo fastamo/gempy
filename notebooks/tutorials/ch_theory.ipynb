{
 "cells": [
  {
   "cell_type": "markdown",
   "metadata": {},
   "source": [
    "# Chapter 2: Taking a look at GemPy's core\n",
    "***\n",
    "In Chapter 1, we presented the general workflow of modeling with GemPy. That alone is sufficient to succesfully generate complex geological models. We now go deeper into the theory and the methods that GemPy is based on. \n",
    "\n",
    "This chapter is based on the theoretical elaborations presented in the paper \"GemPy 1.0: open-source stochastic geological modeling and inversion\" by De la Varga et al. (2018).\n",
    "***\n",
    "\n",
    "## Geological modeling with GemPy\n",
    "\n",
    "## The scalar-field method\n",
    " The potential-field method developed by Lajaunie et al. (1997) is the\n",
    " central method to generate the 3D geological models in\n",
    " GemPy, which has already been successfully deployed in the modeling software GeoModeller 3-D (see Calcagno et al., 2008). The general idea is to construct an interpolation function\n",
    " $\\textbf{Z}({\\bf{x}}_{0})$ where $\\text{x}$ is any point in the continuous\n",
    " three-dimensional space ($x, y, z$) $\\in \\mathbb{R}^3$ which\n",
    " describes the domain $\\mathcal{D}$ as a scalar field. The gradient of the scalar field will follow the direction of the anisotropy of the stratigraphic structure or, in\n",
    " other words, every possible isosurface of the scalar field will\n",
    " represent every synchronal deposition of the layer.\n",
    " \n",
    " Let's break down what we actually mean by this: Imagine that a geological setting is formed by a perfect sequence of horizontal\n",
    "layers piled one above the other. If we know the exact timing of when one\n",
    "of these surfaces was deposited, we would know that any layer above had\n",
    "to occur afterwards while any layer below had to be deposited earlier\n",
    "in time. Obviously, we cannot have data for each of these\n",
    "infinitesimal synchronal layers, but we can interpolate the \"date\" between them. In reality, the exact year of the\n",
    "synchronal deposition is meaningless---since the related uncertainty\n",
    "would be out of proportion. What has value to generate a 3D geomodel is\n",
    "the location of those synchronal layers and especially the\n",
    "lithological interfaces where the change of physical properties are\n",
    "notable. Due to this, instead interpolating \\textit{time}, we use a\n",
    "simple dimensionless parameter---that we simply refer to as *scalar field value*.\n",
    "\n",
    "The advantages of using a global interpolator instead of interpolating each layer\n",
    "of interest independently are twofold: (i) the location of one layer\n",
    "affects the location of others in the same depositional environment, making impossible that two layers in the same potential field cross each other; and (ii) it enables the use of data\n",
    "in-between the interfaces of interest, opening the range of possible\n",
    "measurements that can be used in the interpolation.\n",
    "\n",
    "The interpolation function is obtained as a weighted interpolation\n",
    "based on Universal CoKriging (Chiles and Delfiner, 2009). Kriging\n",
    "or Gaussian process regression (Matheron, 1981) is a\n",
    "spatial interpolation that treats each input as a random variable,\n",
    "aiming to minimize the covariance function to obtain the best linear\n",
    "unbiased predictor (for a detailed description see Chapter 3 in Wackernagel, 2013). Furthermore, it is possible to\n",
    "combine more than one type of data---i.e. a multivariate case or\n",
    "CoKriging---to increase the amount of information in the interpolator,\n",
    "as long as we capture their relation using a cross-covariance. The main\n",
    "advantage in our case is to be able to utilize data sampled from different\n",
    "locations in space for the estimation. Simple Kriging, as a regression, only minimizes the second\n",
    "moment of the data (or variances). However in\n",
    "most geological settings, we can expect linear trends in our\n",
    "data---i.e. the mean thickness of a layer varies across the region\n",
    "linearly. This trend is captured using polynomial drift\n",
    "functions to the system of equations in what is called Universal\n",
    "Kriging.\n",
    "\n",
    "## From scalar field to geological block model\n",
    "\n",
    "## Combining scalar fields: Sequential series and faults\n"
   ]
  },
  {
   "cell_type": "code",
   "execution_count": null,
   "metadata": {
    "collapsed": true
   },
   "outputs": [],
   "source": []
  }
 ],
 "metadata": {
  "kernelspec": {
   "display_name": "Python 3",
   "language": "python",
   "name": "python3"
  },
  "language_info": {
   "codemirror_mode": {
    "name": "ipython",
    "version": 3
   },
   "file_extension": ".py",
   "mimetype": "text/x-python",
   "name": "python",
   "nbconvert_exporter": "python",
   "pygments_lexer": "ipython3",
   "version": "3.5.3"
  }
 },
 "nbformat": 4,
 "nbformat_minor": 2
}
